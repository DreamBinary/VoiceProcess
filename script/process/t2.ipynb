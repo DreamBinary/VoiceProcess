{
 "cells": [
  {
   "cell_type": "code",
   "execution_count": 1,
   "id": "initial_id",
   "metadata": {
    "ExecuteTime": {
     "end_time": "2024-04-10T10:58:49.664627Z",
     "start_time": "2024-04-10T10:58:47.222127Z"
    },
    "collapsed": true,
    "jupyter": {
     "outputs_hidden": true
    }
   },
   "outputs": [
    {
     "name": "stderr",
     "output_type": "stream",
     "text": [
      "V:\\ENV\\mambaforge\\envs\\vp\\lib\\site-packages\\sklearn\\cluster\\_kmeans.py:1446: UserWarning: KMeans is known to have a memory leak on Windows with MKL, when there are less chunks than available threads. You can avoid it by setting the environment variable OMP_NUM_THREADS=2.\n",
      "  warnings.warn(\n",
      "V:\\ENV\\mambaforge\\envs\\vp\\lib\\site-packages\\sklearn\\cluster\\_kmeans.py:1446: UserWarning: KMeans is known to have a memory leak on Windows with MKL, when there are less chunks than available threads. You can avoid it by setting the environment variable OMP_NUM_THREADS=1.\n",
      "  warnings.warn(\n",
      "V:\\ENV\\mambaforge\\envs\\vp\\lib\\site-packages\\sklearn\\cluster\\_kmeans.py:1446: UserWarning: KMeans is known to have a memory leak on Windows with MKL, when there are less chunks than available threads. You can avoid it by setting the environment variable OMP_NUM_THREADS=1.\n",
      "  warnings.warn(\n",
      "Degenerate mixture covariance\n"
     ]
    },
    {
     "name": "stdout",
     "output_type": "stream",
     "text": [
      "PREDICTIED: i like you , do you like me\n"
     ]
    }
   ],
   "source": [
    "import os\n",
    "import pickle\n",
    "import numpy as np\n",
    "import scipy.io.wavfile as wvf\n",
    "from python_speech_features import mfcc\n",
    "from hmmlearn.hmm import GMMHMM\n",
    "import heapq\n",
    "import logging\n",
    "\n",
    "data_path = \"../../data/data4\"\n",
    "model_path = \"hmm_gmm_model.pkl\"\n",
    "\n",
    "\n",
    "def wav2mfcc(label, data_path):\n",
    "    trng_data = {}\n",
    "    mfccs = []\n",
    "    rate, sig = wvf.read(data_path)\n",
    "    mfcc_feat = mfcc(sig, rate)\n",
    "    mfccs.append(mfcc_feat)\n",
    "    trng_data[label] = mfccs\n",
    "    return trng_data\n",
    "\n",
    "\n",
    "def obtain_config(label):\n",
    "    conf = {}\n",
    "    conf[label] = {}\n",
    "    conf[label][\"n_components\"] = 2\n",
    "    conf[label][\"n_mix\"] = 2\n",
    "    return conf\n",
    "\n",
    "\n",
    "def get_hmm_gmm(label, trng_data=None, GMM_config=None, model_path=\"hmm_gmm_model.pkl\", from_file=False):\n",
    "    hmm_gmm = {}\n",
    "    if not from_file:\n",
    "        hmm_gmm[label] = GMMHMM(\n",
    "            n_components=GMM_config[label][\"n_components\"],\n",
    "            n_mix=GMM_config[label][\"n_mix\"])\n",
    "        if trng_data[label]:\n",
    "            hmm_gmm[label].fit(np.vstack(trng_data[label]))\n",
    "        pickle.dump(hmm_gmm, open(model_path, \"wb\"))\n",
    "    else:\n",
    "        hmm_gmm = pickle.load(open(model_path, \"rb\"))\n",
    "    return hmm_gmm\n",
    "\n",
    "\n",
    "def train(data_path, model_path):\n",
    "    with open(os.path.join(data_path, \"label.txt\")) as f:\n",
    "        label = f.readline()\n",
    "    data_path = os.path.join(data_path, \"train.wav\")\n",
    "    train_data = wav2mfcc(label, data_path)\n",
    "    GMM_config = obtain_config(label)\n",
    "    hmm_gmm = get_hmm_gmm(label, train_data, GMM_config, model_path)\n",
    "    return hmm_gmm\n",
    "\n",
    "\n",
    "def test_file(test_file, hmm_gmm):\n",
    "    rate, sig = wvf.read(test_file)\n",
    "    mfcc_feat = mfcc(sig, rate)\n",
    "    pred = {}\n",
    "    for model in hmm_gmm:\n",
    "        pred[model] = hmm_gmm[model].score(mfcc_feat)\n",
    "    return get_nbest(pred, 2), pred\n",
    "\n",
    "\n",
    "def get_nbest(d, n):\n",
    "    return heapq.nlargest(n, d, key=lambda k: d[k])\n",
    "\n",
    "\n",
    "def predict_label(file, hmm_gmm):\n",
    "    predicted = test_file(file, hmm_gmm)\n",
    "    return predicted\n",
    "\n",
    "\n",
    "wave_path = os.path.join(data_path, \"train.wav\")\n",
    "hmm_gmm = train(data_path, model_path)\n",
    "predicted, probs = predict_label(wave_path, hmm_gmm)\n",
    "print(\"PREDICTIED: %s\" % predicted[0])"
   ]
  },
  {
   "cell_type": "code",
   "execution_count": null,
   "id": "e36e264891f815b0",
   "metadata": {
    "collapsed": false,
    "jupyter": {
     "outputs_hidden": false
    }
   },
   "outputs": [],
   "source": []
  }
 ],
 "metadata": {
  "kernelspec": {
   "display_name": "Python 3 (ipykernel)",
   "language": "python",
   "name": "python3"
  },
  "language_info": {
   "codemirror_mode": {
    "name": "ipython",
    "version": 2
   },
   "file_extension": ".py",
   "mimetype": "text/x-python",
   "name": "python",
   "nbconvert_exporter": "python",
   "pygments_lexer": "ipython2",
   "version": "2.7.6"
  }
 },
 "nbformat": 4,
 "nbformat_minor": 5
}
